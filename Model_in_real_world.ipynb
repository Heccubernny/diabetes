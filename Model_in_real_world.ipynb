{
 "cells": [
  {
   "cell_type": "code",
   "execution_count": 1,
   "id": "38d4cff1",
   "metadata": {},
   "outputs": [
    {
     "ename": "ModuleNotFoundError",
     "evalue": "No module named 'matplotlib'",
     "output_type": "error",
     "traceback": [
      "\u001b[0;31m---------------------------------------------------------------------------\u001b[0m",
      "\u001b[0;31mModuleNotFoundError\u001b[0m                       Traceback (most recent call last)",
      "Cell \u001b[0;32mIn[1], line 4\u001b[0m\n\u001b[1;32m      2\u001b[0m \u001b[39mimport\u001b[39;00m \u001b[39mpandas\u001b[39;00m \u001b[39mas\u001b[39;00m \u001b[39mpd\u001b[39;00m\n\u001b[1;32m      3\u001b[0m \u001b[39mimport\u001b[39;00m \u001b[39mnumpy\u001b[39;00m \u001b[39mas\u001b[39;00m \u001b[39mnp\u001b[39;00m\n\u001b[0;32m----> 4\u001b[0m \u001b[39mimport\u001b[39;00m \u001b[39mmatplotlib\u001b[39;00m\u001b[39m.\u001b[39;00m\u001b[39mpyplot\u001b[39;00m \u001b[39mas\u001b[39;00m \u001b[39mplt\u001b[39;00m\n\u001b[1;32m      5\u001b[0m \u001b[39mimport\u001b[39;00m \u001b[39mseaborn\u001b[39;00m \u001b[39mas\u001b[39;00m \u001b[39msns\u001b[39;00m\n\u001b[1;32m      6\u001b[0m plt\u001b[39m.\u001b[39mstyle\u001b[39m.\u001b[39muse(\u001b[39m\"\u001b[39m\u001b[39mfivethirtyeight\u001b[39m\u001b[39m\"\u001b[39m)\n",
      "\u001b[0;31mModuleNotFoundError\u001b[0m: No module named 'matplotlib'"
     ]
    }
   ],
   "source": [
    "# import Relevant libraries\n",
    "import pandas as pd\n",
    "import numpy as np\n",
    "import matplotlib.pyplot as plt\n",
    "import seaborn as sns\n",
    "plt.style.use(\"fivethirtyeight\")\n",
    "from sklearn.model_selection import train_test_split\n",
    "from sklearn.metrics import accuracy_score, precision_score, recall_score, f1_score\n",
    "from sklearn.ensemble import RandomForestClassifier, GradientBoostingClassifier, AdaBoostClassifier\n",
    "from sklearn.svm import SVC\n",
    "from xgboost import XGBClassifier\n",
    "import xgboost as xgb\n",
    "from sklearn.utils.class_weight import compute_class_weight\n",
    "from sklearn.utils import class_weight\n",
    "from sklearn.preprocessing import LabelEncoder"
   ]
  },
  {
   "cell_type": "code",
   "execution_count": 27,
   "id": "ba4d291f",
   "metadata": {},
   "outputs": [],
   "source": [
    "import pickle\n",
    "with open('model_r.pkl','rb') as file:\n",
    "    loaded_model = pickle.load(file)\n",
    "file.close()"
   ]
  },
  {
   "cell_type": "code",
   "execution_count": 28,
   "id": "2848c660",
   "metadata": {},
   "outputs": [],
   "source": [
    "class MultiLabelEncoder:\n",
    "    def fit(self, X, y=None):\n",
    "        return self\n",
    "\n",
    "    def transform(self, X):\n",
    "        X_encoded = X.copy()\n",
    "        for col in range(X.shape[1]):\n",
    "            le = LabelEncoder()\n",
    "            X_encoded[col] = le.fit_transform(X[col])\n",
    "        return X_encoded\n",
    "with open('scaler.pkl','rb') as file:\n",
    "    scaler = pickle.load(file)\n",
    "file.close()"
   ]
  },
  {
   "cell_type": "code",
   "execution_count": 32,
   "id": "b873d3ac",
   "metadata": {},
   "outputs": [],
   "source": [
    "data = pd.read_csv('t.csv')\n",
    "data.drop('Unnamed: 0', axis=1, inplace=True)\n",
    "data1 = data.drop('Diabetes_012', axis=1)"
   ]
  },
  {
   "cell_type": "code",
   "execution_count": 38,
   "id": "fc30e518",
   "metadata": {},
   "outputs": [
    {
     "data": {
      "text/plain": [
       "0.8776776008696208"
      ]
     },
     "execution_count": 38,
     "metadata": {},
     "output_type": "execute_result"
    }
   ],
   "source": [
    "from sklearn.metrics import confusion_matrix, classification_report\n",
    "\n",
    "# Read the CSV files into DataFrames\n",
    "scaled = scaler.transform(data1)\n",
    "y = data['Diabetes_012']  # Assuming 'test_t.csv' is in the current working directory\n",
    "#scaled.drop('Unnamed: 0',inplace=True)\n",
    "# Now, you have DataFrames 'scaled' and 'y' containing your data.\n",
    "\n",
    "accuracy_score(y.values,loaded_model.predict(scaled))"
   ]
  },
  {
   "cell_type": "code",
   "execution_count": 35,
   "id": "456dccdc",
   "metadata": {},
   "outputs": [
    {
     "data": {
      "text/plain": [
       "0.9154495434856184"
      ]
     },
     "execution_count": 35,
     "metadata": {},
     "output_type": "execute_result"
    }
   ],
   "source": [
    "precision_score(y.values,loaded_model.predict(scaled), average='weighted')"
   ]
  },
  {
   "cell_type": "code",
   "execution_count": 36,
   "id": "ed361cf0",
   "metadata": {},
   "outputs": [
    {
     "data": {
      "text/plain": [
       "0.8776776008696208"
      ]
     },
     "execution_count": 36,
     "metadata": {},
     "output_type": "execute_result"
    }
   ],
   "source": [
    "recall_score(y.values,loaded_model.predict(scaled), average='weighted')"
   ]
  },
  {
   "cell_type": "code",
   "execution_count": 40,
   "id": "8682eec3",
   "metadata": {},
   "outputs": [
    {
     "name": "stdout",
     "output_type": "stream",
     "text": [
      "              precision    recall  f1-score   support\n",
      "\n",
      "           0       0.97      0.90      0.93    141725\n",
      "           1       0.71      0.46      0.56      2276\n",
      "           2       0.38      0.71      0.50     12389\n",
      "\n",
      "    accuracy                           0.88    156390\n",
      "   macro avg       0.69      0.69      0.66    156390\n",
      "weighted avg       0.92      0.88      0.89    156390\n",
      "\n"
     ]
    }
   ],
   "source": [
    "print(classification_report(y.values,loaded_model.predict(scaled)))"
   ]
  },
  {
   "cell_type": "code",
   "execution_count": 42,
   "id": "2ebbea8d",
   "metadata": {},
   "outputs": [
    {
     "data": {
      "text/plain": [
       "array([[127464,    383,  13878],\n",
       "       [   983,   1046,    247],\n",
       "       [  3605,     34,   8750]], dtype=int64)"
      ]
     },
     "execution_count": 42,
     "metadata": {},
     "output_type": "execute_result"
    }
   ],
   "source": [
    "confusion_matrix(y.values,loaded_model.predict(scaled))"
   ]
  },
  {
   "cell_type": "code",
   "execution_count": null,
   "id": "7d317a46",
   "metadata": {},
   "outputs": [],
   "source": []
  }
 ],
 "metadata": {
  "kernelspec": {
   "display_name": "Python 3 (ipykernel)",
   "language": "python",
   "name": "python3"
  },
  "language_info": {
   "codemirror_mode": {
    "name": "ipython",
    "version": 3
   },
   "file_extension": ".py",
   "mimetype": "text/x-python",
   "name": "python",
   "nbconvert_exporter": "python",
   "pygments_lexer": "ipython3",
   "version": "3.11.5"
  }
 },
 "nbformat": 4,
 "nbformat_minor": 5
}
